{
 "cells": [
  {
   "cell_type": "code",
   "execution_count": 1,
   "metadata": {},
   "outputs": [],
   "source": [
    "import cv2\n",
    "import numpy as np\n",
    "import time\n",
    "\n",
    "from src.display import showarray"
   ]
  },
  {
   "cell_type": "code",
   "execution_count": 2,
   "metadata": {},
   "outputs": [],
   "source": [
    "dice_mon = cv2.imread(\"data/images/rec_frame_c.jpg\")"
   ]
  },
  {
   "cell_type": "code",
   "execution_count": 4,
   "metadata": {},
   "outputs": [],
   "source": [
    "def get_dice_detector() -> cv2.SimpleBlobDetector:\n",
    "    params = cv2.SimpleBlobDetector_Params()\n",
    "    params.filterByArea = True\n",
    "    params.minArea = 25\n",
    "    params.maxArea = 60\n",
    "    params.filterByCircularity = True\n",
    "    params.minCircularity = 0.4\n",
    "    params.filterByColor = True\n",
    "    params.filterByConvexity = True\n",
    "    params.minConvexity = 0.8\n",
    "    params.filterByInertia = True\n",
    "    params.minInertiaRatio = 0.7\n",
    "    # params.minThreshold = 10\n",
    "    # params.maxThreshold = 200\n",
    "    # params.minInertiaRatio = 0.7\n",
    "    return cv2.SimpleBlobDetector_create(params)\n",
    "\n",
    "dice_detector = get_dice_detector()"
   ]
  },
  {
   "cell_type": "code",
   "execution_count": 5,
   "metadata": {},
   "outputs": [],
   "source": [
    "def dilated_black_color_image(image: np.ndarray, threshold: int = 40) -> np.ndarray:\n",
    "    gs_image = cv2.cvtColor(image, cv2.COLOR_BGR2GRAY)\n",
    "    gs_image[gs_image > threshold] = 255\n",
    "    gs_image[gs_image <= threshold] = 0\n",
    "    return gs_image"
   ]
  },
  {
   "cell_type": "code",
   "execution_count": 6,
   "metadata": {},
   "outputs": [],
   "source": [
    "def detect_dice_dots(image: np.ndarray) -> list[cv2.KeyPoint]:\n",
    "    return dice_detector.detect(dilated_black_color_image(image))\n",
    "\n",
    "def calculate_frame_similarity(frame_1: np.ndarray, frame_2: np.ndarray) -> float:\n",
    "    if frame_1 is None:\n",
    "        return 1\n",
    "    last_frame_gs = cv2.cvtColor(frame_1, cv2.COLOR_BGR2GRAY) / 255\n",
    "    current_frame_gs = cv2.cvtColor(frame_2, cv2.COLOR_BGR2GRAY) / 255\n",
    "    last_frame_norm = last_frame_gs / np.sqrt(np.sum(last_frame_gs ** 2))\n",
    "    current_frame_norm = current_frame_gs / np.sqrt(np.sum(current_frame_gs ** 2))\n",
    "    return np.sum(last_frame_norm * current_frame_norm)"
   ]
  },
  {
   "cell_type": "code",
   "execution_count": 8,
   "metadata": {},
   "outputs": [],
   "source": [
    "capture = cv2.VideoCapture(\"data/recordings/Easy_1.mp4\")\n",
    "cv2.namedWindow(\"Feed\", cv2.WINDOW_NORMAL)\n",
    "cv2.resizeWindow(\"Feed\", 400, 800)\n",
    "last_frame = None\n",
    "sim_times = []\n",
    "detect_times = []\n",
    "while(capture.isOpened()):\n",
    "    ret, frame = capture.read()\n",
    "    if not ret:\n",
    "        break\n",
    "    similarity = calculate_frame_similarity(last_frame, frame)\n",
    "    last_frame = frame\n",
    "    keypoints = detect_dice_dots(frame)\n",
    "    frame = cv2.drawKeypoints(frame, keypoints, np.array([]), (0, 0, 255), cv2.DRAW_MATCHES_FLAGS_DRAW_RICH_KEYPOINTS)\n",
    "    \n",
    "    frame_resized = cv2.resize(frame, (0, 0), fx=0.5, fy=0.5)\n",
    "    cv2.imshow('Feed', frame) \n",
    "    if cv2.waitKey(3) & 0xFF == ord('q'):\n",
    "        break\n",
    "capture.release()\n",
    "cv2.destroyAllWindows()"
   ]
  }
 ],
 "metadata": {
  "kernelspec": {
   "display_name": "dviz",
   "language": "python",
   "name": "python3"
  },
  "language_info": {
   "codemirror_mode": {
    "name": "ipython",
    "version": 3
   },
   "file_extension": ".py",
   "mimetype": "text/x-python",
   "name": "python",
   "nbconvert_exporter": "python",
   "pygments_lexer": "ipython3",
   "version": "3.10.4 | packaged by conda-forge | (main, Mar 30 2022, 08:38:02) [MSC v.1916 64 bit (AMD64)]"
  },
  "orig_nbformat": 4,
  "vscode": {
   "interpreter": {
    "hash": "8a0764124d9b0ac1585fac6f6636ff3c06a49bfb47c9dbbda49bea898317cf46"
   }
  }
 },
 "nbformat": 4,
 "nbformat_minor": 2
}
