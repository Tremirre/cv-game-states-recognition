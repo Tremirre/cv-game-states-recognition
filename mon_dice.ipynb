{
 "cells": [
  {
   "cell_type": "code",
   "execution_count": 1,
   "metadata": {},
   "outputs": [],
   "source": [
    "import cv2\n",
    "import numpy as np\n",
    "import time\n",
    "import threading\n",
    "\n",
    "from src.display import showarray\n",
    "from src.feed import LiveFrameProcessor\n",
    "from src.video import VideoHandler\n",
    "from src.processing.analyzers import DiceAnalyzer"
   ]
  },
  {
   "cell_type": "code",
   "execution_count": 2,
   "metadata": {},
   "outputs": [],
   "source": [
    "dice_mon = cv2.imread(\"data/images/rec_frame_c.jpg\")"
   ]
  },
  {
   "cell_type": "code",
   "execution_count": 3,
   "metadata": {},
   "outputs": [],
   "source": [
    "def get_dice_detector() -> cv2.SimpleBlobDetector:\n",
    "    params = cv2.SimpleBlobDetector_Params()\n",
    "    params.filterByArea = True\n",
    "    params.minArea = 25\n",
    "    params.maxArea = 60\n",
    "    params.filterByCircularity = True\n",
    "    params.minCircularity = 0.4\n",
    "    params.filterByColor = True\n",
    "    params.filterByConvexity = True\n",
    "    params.minConvexity = 0.8\n",
    "    params.filterByInertia = True\n",
    "    params.minInertiaRatio = 0.7\n",
    "    # params.minThreshold = 10\n",
    "    # params.maxThreshold = 200\n",
    "    # params.minInertiaRatio = 0.7\n",
    "    return cv2.SimpleBlobDetector_create(params)\n",
    "\n",
    "dice_detector = get_dice_detector()"
   ]
  },
  {
   "cell_type": "code",
   "execution_count": 4,
   "metadata": {},
   "outputs": [],
   "source": [
    "def dilated_black_color_image(image: np.ndarray, threshold: int = 40) -> np.ndarray:\n",
    "    gs_image = np.array(cv2.cvtColor(image, cv2.COLOR_BGR2GRAY))\n",
    "    gs_image[gs_image > threshold] = 255\n",
    "    gs_image[gs_image <= threshold] = 0\n",
    "    return gs_image\n",
    "\n",
    "def detect_dice_dots(image: np.ndarray) -> list[cv2.KeyPoint]:\n",
    "    return dice_detector.detect(dilated_black_color_image(image))"
   ]
  },
  {
   "cell_type": "code",
   "execution_count": 5,
   "metadata": {},
   "outputs": [],
   "source": [
    "analyzer = DiceAnalyzer(dice_detector, dilated_black_color_image, threaded=True)\n",
    "processor = LiveFrameProcessor(\"feed\", 400, 800)\n",
    "with VideoHandler(\"data/recordings/Easy_3.mp4\") as vh:\n",
    "    vh.go_through_video(processor, [analyzer])"
   ]
  }
 ],
 "metadata": {
  "kernelspec": {
   "display_name": "dviz",
   "language": "python",
   "name": "python3"
  },
  "language_info": {
   "codemirror_mode": {
    "name": "ipython",
    "version": 3
   },
   "file_extension": ".py",
   "mimetype": "text/x-python",
   "name": "python",
   "nbconvert_exporter": "python",
   "pygments_lexer": "ipython3",
   "version": "3.10.4"
  },
  "orig_nbformat": 4,
  "vscode": {
   "interpreter": {
    "hash": "8a0764124d9b0ac1585fac6f6636ff3c06a49bfb47c9dbbda49bea898317cf46"
   }
  }
 },
 "nbformat": 4,
 "nbformat_minor": 2
}
