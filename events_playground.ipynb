{
 "cells": [
  {
   "attachments": {},
   "cell_type": "markdown",
   "metadata": {},
   "source": [
    "# Notebook for own analysis"
   ]
  },
  {
   "cell_type": "code",
   "execution_count": 1,
   "metadata": {},
   "outputs": [],
   "source": [
    "import json\n",
    "import pathlib\n",
    "\n",
    "import cv2\n",
    "import numpy as np\n",
    "import matplotlib.pyplot as plt\n",
    "\n",
    "from statistics import mode\n",
    "from typing import Any, Callable\n",
    "\n",
    "from src import video, feed\n",
    "from src.display import showarray\n",
    "from src.processing import ImageMatcher, Homographer, BoardMapper\n",
    "from src.processing import analyzers, detectors, features, calc\n",
    "from src.processing import events\n",
    "from src.processing.context import ContextReader\n",
    "from src.monopoly.elements import FieldIndex, deserialize_families, deserialize_fields"
   ]
  },
  {
   "attachments": {},
   "cell_type": "markdown",
   "metadata": {},
   "source": [
    "### Misc Functions"
   ]
  },
  {
   "cell_type": "code",
   "execution_count": 2,
   "metadata": {},
   "outputs": [],
   "source": [
    "board_image = cv2.imread(\"data/images/board.jpg\")\n",
    "\n",
    "CARD_RATIO = 8.5 / 5.5\n",
    "\n",
    "def filter_contours(contours: list[np.ndarray]) -> list[np.ndarray]:\n",
    "    \n",
    "    return [\n",
    "        contour \n",
    "        for contour in contours\n",
    "        if calc.is_min_area_in_bounds_and_good_edges_ratio(contour, 10_000, 25_000, CARD_RATIO)\n",
    "    ]\n",
    "\n",
    "serialized_families = json.loads(pathlib.Path(\"data/meta/families.json\").read_text())\n",
    "serialized_fields = json.loads(pathlib.Path(\"data/meta/fields.json\").read_text())\n",
    "\n",
    "families = {family.name: family for family in deserialize_families(serialized_families)}\n",
    "fields = list(deserialize_fields(serialized_fields, families))\n",
    "FIELD_INDEX = FieldIndex(fields)\n",
    "\n",
    "def field_id_to_name(field_id):\n",
    "    if field_id is None:\n",
    "        return \"Searching...\"\n",
    "    field = FIELD_INDEX.get_by_id(field_id)\n",
    "    if field is not None:\n",
    "        return field.name\n",
    "    return \"Searching...\"\n",
    "\n",
    "def decode_position(field_index: FieldIndex, position: tuple[int, int] | None, board_mapper: BoardMapper, last_decoded: int | None = None):\n",
    "    decoded_position = None\n",
    "    if position is not None:\n",
    "        section, index = board_mapper.map_point_to_field_position(*position)\n",
    "        if section not in [\"inside\", \"outside\"]:\n",
    "            field = field_index.get_by_place(section, index)\n",
    "            if field is not None:\n",
    "                decoded_position = field.id\n",
    "    if decoded_position is None:\n",
    "        decoded_position = last_decoded\n",
    "    return decoded_position\n"
   ]
  },
  {
   "attachments": {},
   "cell_type": "markdown",
   "metadata": {},
   "source": [
    "## Live feed processor - shows the detection results as it reads through the video\n",
    "\n",
    "Specify path to video for it to work!"
   ]
  },
  {
   "cell_type": "code",
   "execution_count": 17,
   "metadata": {},
   "outputs": [
    {
     "name": "stdout",
     "output_type": "stream",
     "text": [
      "MOVE EVENT\n",
      "DICE EVENT\n",
      "DICE EVENT\n",
      "MOVE EVENT\n",
      "MOVE EVENT\n",
      "PROPERTY EVENT\n"
     ]
    }
   ],
   "source": [
    "PATH_TO_VIDEO = ... # Provide path to your video here!\n",
    "\n",
    "board_drawing_entry = analyzers.PointsDrawingEntry(\"board_points\", (255, 255, 0))\n",
    "dice_area_drawing_entry = analyzers.RectDrawingEntry(\"dice_area_rect\", (0, 255, 255))\n",
    "\n",
    "rect_analyzer = analyzers.RectDrawingAnalyzer(\n",
    "    [board_drawing_entry, dice_area_drawing_entry]\n",
    ")\n",
    "\n",
    "white_piece_analyzer = analyzers.WhitePieceAnalyzer(\n",
    "    piece_detector=detectors.get_white_piece_detector(),\n",
    "    binarizer=features.get_clear_inverted_edges,\n",
    "    threaded=True\n",
    ")\n",
    "black_piece_analyzer = analyzers.BlackPieceAnalyzer(\n",
    "    piece_detector=detectors.get_black_piece_detector(),\n",
    "    binarizer=features.get_clear_inverted_edges, \n",
    "    threaded=True\n",
    ")\n",
    "\n",
    "dots_analyzer = analyzers.DotsAnalyzer(blob_detector=detectors.get_dots_detector(), threaded=True)\n",
    "cards_analyzer = analyzers.CardsAnalyzer(\n",
    "    edge_detector=features.get_threshold_edges,\n",
    "    contour_filter=filter_contours,\n",
    "    threaded=True\n",
    ")\n",
    "\n",
    "live_feed = feed.LiveFrameProcessor(\"feed\", 800, 400)\n",
    "\n",
    "# Change white/black cards context callback in case sides or orientation are swapped / changed\n",
    "context_readers = [\n",
    "    ContextReader(\"black_pos\", 130, lambda context: decode_position(FIELD_INDEX, context[\"black_pos\"], context[\"board_mapper\"]), field_id_to_name),\n",
    "    ContextReader(\"white_pos\", 130, lambda context: decode_position(FIELD_INDEX, context[\"white_pos\"], context[\"board_mapper\"]), field_id_to_name),\n",
    "    ContextReader(\"dice_dots\", 80, lambda context: len(context[\"dice_dots\"])), \n",
    "    ContextReader(\"dice_pos_x\", 30, lambda context: np.average([kp.pt[0] for kp in context[\"dice_dots\"]]) if context[\"dice_dots\"] else 0 ), \n",
    "    ContextReader(\"dice_pos_y\", 30, lambda context: np.average([kp.pt[1] for kp in context[\"dice_dots\"]]) if context[\"dice_dots\"] else 0 ), \n",
    "    ContextReader(\"black_cards\", 130, lambda context: len([card for card in context[\"cards\"] if card[0] >= context[\"width\"] / 2])),\n",
    "    ContextReader(\"white_cards\", 130, lambda context: len([card for card in context[\"cards\"] if card[0] < context[\"width\"] / 2])),\n",
    "    ContextReader(\"card_dots\", 200, lambda context: len(context[\"card_dots\"])),\n",
    "]\n",
    "\n",
    "event_detectors = [\n",
    "    events.DiceEventDetector(context_readers),\n",
    "    events.CardEventDetector(context_readers, \"black\"),\n",
    "    events.CardEventDetector(context_readers, \"white\"),\n",
    "    events.MoveEventDetector(context_readers, \"black\"),\n",
    "    events.MoveEventDetector(context_readers, \"white\"),\n",
    "]\n",
    "\n",
    "events_analyzer = analyzers.EventsAnalyzer(context_readers=context_readers, event_detectors=event_detectors)\n",
    "used_analyzers_with_events = [rect_analyzer, white_piece_analyzer, black_piece_analyzer, dots_analyzer, cards_analyzer, events_analyzer]\n",
    "\n",
    "with video.VideoHandler(PATH_TO_VIDEO) as vh:\n",
    "    first_frame = vh.get_frame(0)\n",
    "    image_matcher = ImageMatcher(first_frame, board_image)\n",
    "    matches = image_matcher.get_matches()\n",
    "    homographer = Homographer(image_matcher.kp_ref, image_matcher.kp_match, matches)\n",
    "    inv_homography, _ = homographer.get_inverse_homography()\n",
    "    homography, _ = homographer.get_homography()\n",
    "    board_mapper = BoardMapper(homography, max(board_image.shape))\n",
    "    dst_rect = features.get_board_min_rect_from_homography(inv_homography, board_image)\n",
    "    board_points = cv2.boxPoints(dst_rect)\n",
    "    dice_area_rect = features.find_dice_throwing_rect(first_frame)\n",
    "    if dice_area_rect is None:\n",
    "        dice_area_rect = features.find_dice_throwing_rect(first_frame, 80, 30)\n",
    "    additonal_context = dict(\n",
    "        board_points=board_points,\n",
    "        dice_area_rect=dice_area_rect, \n",
    "        board_mapper=board_mapper,\n",
    "        height=first_frame.shape[0],\n",
    "        width=first_frame.shape[1],\n",
    "    )\n",
    "    vh.go_through_video(live_feed, used_analyzers_with_events, additional_context=additonal_context)"
   ]
  },
  {
   "cell_type": "code",
   "execution_count": 12,
   "metadata": {},
   "outputs": [],
   "source": [
    "name = \"Easy_2\"\n",
    "with video.VideoHandler(f\"data/recordings/{name}.mp4\") as vh:\n",
    "    vh.go_through_video(live_feed, frame_analyzers=[])"
   ]
  }
 ],
 "metadata": {
  "kernelspec": {
   "display_name": "dviz",
   "language": "python",
   "name": "python3"
  },
  "language_info": {
   "codemirror_mode": {
    "name": "ipython",
    "version": 3
   },
   "file_extension": ".py",
   "mimetype": "text/x-python",
   "name": "python",
   "nbconvert_exporter": "python",
   "pygments_lexer": "ipython3",
   "version": "3.10.4"
  },
  "orig_nbformat": 4,
  "vscode": {
   "interpreter": {
    "hash": "8a0764124d9b0ac1585fac6f6636ff3c06a49bfb47c9dbbda49bea898317cf46"
   }
  }
 },
 "nbformat": 4,
 "nbformat_minor": 2
}
